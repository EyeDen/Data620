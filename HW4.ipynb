{
 "cells": [
  {
   "cell_type": "markdown",
   "metadata": {},
   "source": [
    "## Centrality Measure of Subreddits\n",
    "\n",
    "The Stanford Network Analysis Project (SNAP) has [a dataset of Reddit's Hyperlink network](https://snap.stanford.edu/data/soc-RedditHyperlinks.html).  Reddit is a social network comprised of many smaller \"subreddits\" devoted to a particular subject and commonly identified by the hyperlink address added onto Reddit's URL.  For example, [/r/pics](https://www.reddit.com/r/pics) is a subreddit devoted to pictures, while [/r/AccidentalRenaissance](https://www.reddit.com/r/accidentalrenaissance) is a subreddit dedicated to pictures that happen to resemble Renaissance paintings in composition/color.\n",
    "\n",
    "The SNAP dataset is concerned with Reddit posts that link to other subreddits.  Each entry has a source subreddit and a target subreddit, but also a sentiment score with -1 for being negative and a 1 for neutral/positive.  Utilizing the centrality measures, we can then determine which subreddits are most prone to being attacked, which do the most attacking, and the inverse.  Essentially, which subreddits are popular enough to drive the conversation around the rest of Reddit.\n",
    "\n",
    "Once the data is loaded into Python, we can use the source and target columns to create a graph of all the subreddits.  We can then utilize the networkx library to calculate the degree, the closeness, and the betweenness of each node and put the highest ranked subreddits into a table, as in Table 3-2, while using Table 3-1 to evaluate each one.  If not too computationally demanding on the dataset, we can also attempt to calculate the eigenvector of each node with the `eigenvector_centrality()` function.  If we're unable to successfully run it because the graph is too large, we can attempt the `PageRank` function.\n",
    "\n",
    "For the purpose of moderating a Reddit, this analysis would be helpful in identifying which subreddits are frequent targets.  A further examination could then be done regarding whether or not these subreddits are often negative or positive in nature, and then steps could be taken to curb the users of negative subreddits or protect the users of more positive subreddits."
   ]
  }
 ],
 "metadata": {
  "kernelspec": {
   "display_name": "Python 3",
   "language": "python",
   "name": "python3"
  },
  "language_info": {
   "codemirror_mode": {
    "name": "ipython",
    "version": 3
   },
   "file_extension": ".py",
   "mimetype": "text/x-python",
   "name": "python",
   "nbconvert_exporter": "python",
   "pygments_lexer": "ipython3",
   "version": "3.6.7"
  }
 },
 "nbformat": 4,
 "nbformat_minor": 2
}
